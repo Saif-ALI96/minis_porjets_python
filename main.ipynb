{
 "cells": [
  {
   "cell_type": "code",
   "execution_count": 25,
   "metadata": {},
   "outputs": [],
   "source": [
    "import random\n",
    "def guess(x):\n",
    "    randon_number = random.randint(0, x)\n",
    "    user = 0\n",
    "    while user != randon_number:\n",
    "        user = int(input(f\"guess a number from 1 to 10  or q to quick:\"))\n",
    "\n",
    "        if user > randon_number:\n",
    "            print(f\"this nomber is to high\")\n",
    "        elif user < randon_number:\n",
    "            print(f\"sorry , but this number is to low\")\n",
    "        else: \n",
    "            break\n",
    "\n",
    "    print(f\"grangets you have found the correct number , which is {randon_number}\")"
   ]
  },
  {
   "cell_type": "code",
   "execution_count": 26,
   "metadata": {},
   "outputs": [
    {
     "name": "stdout",
     "output_type": "stream",
     "text": [
      "this nomber is to high\n",
      "sorry , but this number is to low\n",
      "grangets you have found the correct number , which is 3\n"
     ]
    }
   ],
   "source": [
    "guess(10)"
   ]
  }
 ],
 "metadata": {
  "kernelspec": {
   "display_name": "Python 3",
   "language": "python",
   "name": "python3"
  },
  "language_info": {
   "codemirror_mode": {
    "name": "ipython",
    "version": 3
   },
   "file_extension": ".py",
   "mimetype": "text/x-python",
   "name": "python",
   "nbconvert_exporter": "python",
   "pygments_lexer": "ipython3",
   "version": "3.11.3"
  }
 },
 "nbformat": 4,
 "nbformat_minor": 2
}
